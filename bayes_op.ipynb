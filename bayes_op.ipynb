{
 "cells": [
  {
   "cell_type": "markdown",
   "metadata": {},
   "source": [
    "# Bayes Optimization"
   ]
  },
  {
   "cell_type": "code",
   "execution_count": 1,
   "metadata": {},
   "outputs": [],
   "source": [
    "import numpy as np\n",
    "import matplotlib.pyplot as plt\n",
    "from scipy.optimize import minimize\n",
    "%matplotlib inline"
   ]
  },
  {
   "cell_type": "markdown",
   "metadata": {},
   "source": [
    "## Objective Function"
   ]
  },
  {
   "cell_type": "code",
   "execution_count": 2,
   "metadata": {},
   "outputs": [],
   "source": [
    "def target_function(x):\n",
    "    l2 = np.linalg.norm(x)\n",
    "    return np.sin(l2/2)\n",
    "def estimate(x):\n",
    "    noise = np.random.normal(loc=0.0, scale=0.0001)\n",
    "    return target_function(x) + noise\n"
   ]
  },
  {
   "cell_type": "code",
   "execution_count": 3,
   "metadata": {},
   "outputs": [],
   "source": [
    "def kernel_function(x_1, x_2, theta_f, l):\n",
    "    diff = [x_1[i]-x_2[i] for i in range(len(x_1))]\n",
    "    l2 = np.linalg.norm(diff)**2\n",
    "    return theta_f**2*np.exp(-l2/2/l**2)"
   ]
  },
  {
   "cell_type": "markdown",
   "metadata": {},
   "source": [
    "## Update Prior Distibution"
   ]
  },
  {
   "cell_type": "code",
   "execution_count": 4,
   "metadata": {},
   "outputs": [],
   "source": [
    "def covar_matrix(x,theta_f, l):\n",
    "    n = len(x)\n",
    "    matrix = np.ones((n,n))\n",
    "    for i in range(n):\n",
    "        for j in range(i,n):\n",
    "            cor = kernel_function(x[i],x[j], theta_f, l)\n",
    "            matrix[i][j] = matrix[j][i] = cor\n",
    "    return matrix"
   ]
  },
  {
   "cell_type": "code",
   "execution_count": 5,
   "metadata": {},
   "outputs": [],
   "source": [
    "# suppose we alredy knew x, y\n",
    "def prior_mle(parameter, x, y):\n",
    "    theta_f,l = parameter[0], parameter[1]\n",
    "    theta_y = 0.0001\n",
    "    n = len(x)\n",
    "    matrix = covar_matrix(x, theta_f,l) + theta_y*np.eye(n)\n",
    "    inverse = np.linalg.inv(matrix)\n",
    "    np_x = np.asarray(x)\n",
    "    np_y = np.asarray(y)\n",
    "    mle = -np.matmul(np.matmul(np_y, inverse), np_y) - np.log(np.linalg.det(matrix))\n",
    "    return -mle\n",
    "    \n",
    "    "
   ]
  },
  {
   "cell_type": "markdown",
   "metadata": {},
   "source": [
    "## Posterior mean and variance"
   ]
  },
  {
   "cell_type": "code",
   "execution_count": 6,
   "metadata": {},
   "outputs": [],
   "source": [
    "def posterior_dist(new_point, parameter, x, y):\n",
    "    theta_f,l = parameter[0], parameter[1]\n",
    "    theta_y = 0.0001\n",
    "    n = len(x)\n",
    "    #distance between x_1, x_2 ... and new_point\n",
    "    d = []\n",
    "    for i in range(n):\n",
    "        d.append(kernel_function(new_point,x[i],theta_f, l))\n",
    "    var = kernel_function(new_point,new_point,theta_f, l)\n",
    "    matrix = covar_matrix(x, theta_f,l) + theta_y*np.eye(n)\n",
    "    inverse = np.linalg.inv(matrix)\n",
    "    np_d = np.asarray(d)\n",
    "    np_x = np.asarray(x)\n",
    "    np_y = np.asarray(y)\n",
    "    posterior_mean = np.matmul(np.matmul(np_d, inverse), np_y)\n",
    "    posterior_var = var-np.matmul(np.matmul(np_d, inverse), np_d)\n",
    "    return posterior_mean, posterior_var"
   ]
  },
  {
   "cell_type": "markdown",
   "metadata": {},
   "source": [
    "## Upper Confidence Bound\n"
   ]
  },
  {
   "cell_type": "code",
   "execution_count": 7,
   "metadata": {},
   "outputs": [],
   "source": [
    "def ucb(new_point, parameter, x,y, beta):\n",
    "    mean, var = posterior_dist(new_point, parameter, x, y)\n",
    "    return -(mean + np.sqrt(beta)*np.sqrt(var))\n"
   ]
  },
  {
   "cell_type": "markdown",
   "metadata": {},
   "source": [
    "## Bayes Optimization"
   ]
  },
  {
   "cell_type": "code",
   "execution_count": 8,
   "metadata": {},
   "outputs": [],
   "source": [
    "x = [np.random.normal(loc=0.0, scale=0.01,size=2)]\n",
    "y = [estimate(x[i]) for i in range(len(x))]"
   ]
  },
  {
   "cell_type": "code",
   "execution_count": null,
   "metadata": {},
   "outputs": [],
   "source": [
    "bnds = ((-5, 5), (-5, 5))\n",
    "for i in range(50):\n",
    "    parameter = minimize(prior_mle,x0=(1,1),method='L-BFGS-B',args= (x,y)).x\n",
    "    new_point = minimize(ucb,x0=(1,1), method='L-BFGS-B',bounds=bnds,args = (parameter, x,y, 1)).x\n",
    "    x.append(new_point)\n",
    "    y.append(estimate(new_point))"
   ]
  },
  {
   "cell_type": "code",
   "execution_count": null,
   "metadata": {},
   "outputs": [],
   "source": [
    "plt.plot([i for i in range(len(y))], y)\n",
    "plt.ylabel('Objective value')\n",
    "plt.xlabel('Iteration');\n"
   ]
  },
  {
   "cell_type": "code",
   "execution_count": null,
   "metadata": {},
   "outputs": [],
   "source": []
  },
  {
   "cell_type": "code",
   "execution_count": null,
   "metadata": {},
   "outputs": [],
   "source": []
  },
  {
   "cell_type": "code",
   "execution_count": null,
   "metadata": {},
   "outputs": [],
   "source": []
  }
 ],
 "metadata": {
  "environment": {
   "name": "tf2-gpu.2-1.m50",
   "type": "gcloud",
   "uri": "gcr.io/deeplearning-platform-release/tf2-gpu.2-1:m50"
  },
  "kernelspec": {
   "display_name": "Python 3",
   "language": "python",
   "name": "python3"
  },
  "language_info": {
   "codemirror_mode": {
    "name": "ipython",
    "version": 3
   },
   "file_extension": ".py",
   "mimetype": "text/x-python",
   "name": "python",
   "nbconvert_exporter": "python",
   "pygments_lexer": "ipython3",
   "version": "3.7.6"
  }
 },
 "nbformat": 4,
 "nbformat_minor": 4
}
